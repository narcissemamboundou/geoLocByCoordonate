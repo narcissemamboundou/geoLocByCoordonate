{
  "nbformat": 4,
  "nbformat_minor": 0,
  "metadata": {
    "colab": {
      "name": "Untitled1.ipynb",
      "provenance": []
    },
    "kernelspec": {
      "name": "python3",
      "display_name": "Python 3"
    }
  },
  "cells": [
    {
      "cell_type": "code",
      "metadata": {
        "colab": {
          "base_uri": "https://localhost:8080/"
        },
        "id": "8IGIG2nHiuRR",
        "outputId": "996c8638-e090-4e4f-d3c2-81eca4fe41eb"
      },
      "source": [
        "# Geocoding library \r\n",
        "!pip install geopy\r\n",
        "!pip install folium"
      ],
      "execution_count": 2,
      "outputs": [
        {
          "output_type": "stream",
          "text": [
            "Requirement already satisfied: geopy in /usr/local/lib/python3.6/dist-packages (1.17.0)\n",
            "Requirement already satisfied: geographiclib<2,>=1.49 in /usr/local/lib/python3.6/dist-packages (from geopy) (1.50)\n",
            "Requirement already satisfied: folium in /usr/local/lib/python3.6/dist-packages (0.8.3)\n",
            "Requirement already satisfied: requests in /usr/local/lib/python3.6/dist-packages (from folium) (2.23.0)\n",
            "Requirement already satisfied: six in /usr/local/lib/python3.6/dist-packages (from folium) (1.15.0)\n",
            "Requirement already satisfied: jinja2 in /usr/local/lib/python3.6/dist-packages (from folium) (2.11.2)\n",
            "Requirement already satisfied: numpy in /usr/local/lib/python3.6/dist-packages (from folium) (1.19.5)\n",
            "Requirement already satisfied: branca>=0.3.0 in /usr/local/lib/python3.6/dist-packages (from folium) (0.4.2)\n",
            "Requirement already satisfied: certifi>=2017.4.17 in /usr/local/lib/python3.6/dist-packages (from requests->folium) (2020.12.5)\n",
            "Requirement already satisfied: idna<3,>=2.5 in /usr/local/lib/python3.6/dist-packages (from requests->folium) (2.10)\n",
            "Requirement already satisfied: urllib3!=1.25.0,!=1.25.1,<1.26,>=1.21.1 in /usr/local/lib/python3.6/dist-packages (from requests->folium) (1.24.3)\n",
            "Requirement already satisfied: chardet<4,>=3.0.2 in /usr/local/lib/python3.6/dist-packages (from requests->folium) (3.0.4)\n",
            "Requirement already satisfied: MarkupSafe>=0.23 in /usr/local/lib/python3.6/dist-packages (from jinja2->folium) (1.1.1)\n"
          ],
          "name": "stdout"
        }
      ]
    },
    {
      "cell_type": "code",
      "metadata": {
        "id": "kU61VrwCjq4C"
      },
      "source": [
        "import pandas as pd\r\n",
        "from geopy.geocoders import Nominatim\r\n",
        "import folium\r\n",
        "import time"
      ],
      "execution_count": 15,
      "outputs": []
    },
    {
      "cell_type": "code",
      "metadata": {
        "id": "aJF4l9HAjy_1"
      },
      "source": [
        "findIT = Nominatim(timeout=10, user_agent = \"na.mbd\")"
      ],
      "execution_count": 5,
      "outputs": []
    },
    {
      "cell_type": "code",
      "metadata": {
        "colab": {
          "base_uri": "https://localhost:8080/"
        },
        "id": "YI4exuV4kJwN",
        "outputId": "9f202f89-de73-497e-8846-853d175e35f4"
      },
      "source": [
        "#print location by an adress\r\n",
        "location = findIT.geocode(\"port-gentil, gabon\").raw\r\n",
        "print(location)"
      ],
      "execution_count": 17,
      "outputs": [
        {
          "output_type": "stream",
          "text": [
            "{'place_id': 1428827, 'licence': 'Data © OpenStreetMap contributors, ODbL 1.0. https://osm.org/copyright', 'osm_type': 'node', 'osm_id': 339582598, 'boundingbox': ['-0.8749116', '-0.5549116', '8.6197434', '8.9397434'], 'lat': '-0.7149116', 'lon': '8.7797434', 'display_name': 'Port-Gentil, Ogooué-Maritime, Gabon', 'class': 'place', 'type': 'city', 'importance': 0.733164917530865, 'icon': 'https://nominatim.openstreetmap.org/ui/mapicons//poi_place_city.p.20.png'}\n"
          ],
          "name": "stdout"
        }
      ]
    },
    {
      "cell_type": "code",
      "metadata": {
        "id": "nD0HIfNJkRqT"
      },
      "source": [
        "def findAdress(latitude, longitude, language=\"en\"):\r\n",
        "    coordinates = f\"{latitude}, {longitude}\"\r\n",
        "    # sleep for a second to respect Usage Policy\r\n",
        "    time.sleep(1)\r\n",
        "    try:\r\n",
        "        return findIT.reverse(coordinates, language=language).raw\r\n",
        "    except:\r\n",
        "        return findAdress(latitude, longitude)\r\n",
        "      "
      ],
      "execution_count": 10,
      "outputs": []
    },
    {
      "cell_type": "code",
      "metadata": {
        "colab": {
          "base_uri": "https://localhost:8080/"
        },
        "id": "8aF5H8tBljkl",
        "outputId": "e8d42796-4c23-4dd8-88e8-b8f38a59fcf3"
      },
      "source": [
        "latitude = -0.7149116\r\n",
        "longitude = 8.7797434\r\n",
        "address=findAdress(latitude, longitude)\r\n",
        "address_geo=address['address']\r\n",
        "city=address['address']['city']\r\n",
        "print(city)\r\n",
        "print(address_geo)"
      ],
      "execution_count": 25,
      "outputs": [
        {
          "output_type": "stream",
          "text": [
            "Port-Gentil\n",
            "{'neighbourhood': 'Balise', 'suburb': 'Rombintchozo', 'city': 'Port-Gentil', 'state': 'Ogooué-Maritime', 'country': 'Gabon', 'country_code': 'ga'}\n"
          ],
          "name": "stdout"
        }
      ]
    }
  ]
}